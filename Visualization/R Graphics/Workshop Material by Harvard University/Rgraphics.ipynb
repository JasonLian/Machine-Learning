{
 "cells": [
  {
   "cell_type": "markdown",
   "metadata": {},
   "source": [
    "Introduction\n",
    "============\n",
    "\n",
    "<div class=\"materials-no-ipynb\">\n",
    "\n",
    "Materials and setup\n",
    "-------------------\n",
    "\n",
    "### Lab computer users: Log in using the user name and password on the board to your left.<span class=\"tag\" data-tag-name=\"labsetup\"></span>\n",
    "\n",
    "### Laptop users: You should have R installed --if not:\n",
    "\n",
    "#### Open a web browser and go to <http://cran.r-project.org> and download and install it\n",
    "\n",
    "#### Also helpful to install RStudio (download from <http://rstudio.com>)\n",
    "\n",
    "#### In R, type `install.packages(\"ggplot2\")` to install the ggplot2 package.\n",
    "\n",
    "### Everyone: Download workshop materials:\n",
    "\n",
    "#### Download materials from <http://tutorials.iq.harvard.edu/R/Rgraphics.zip>\n",
    "\n",
    "#### Extract the zip file containing the materials to your desktop\n",
    "\n",
    "Workshop notes are available in .hmtl format. Open a file browser, navigate to your desktop and open Rgraphics.html\n",
    "\n",
    "Workshop Overview\n",
    "-----------------\n",
    "\n",
    "Class Structure and Organization:\n",
    "\n",
    "-   Ask questions at any time. Really!\n",
    "-   Collaboration is encouraged\n",
    "-   This is your class! Special requests are encouraged\n",
    "\n",
    "</div>\n",
    "\n",
    "This is an intermediate R course:\n",
    "\n",
    "-   Assumes working knowledge of R\n",
    "-   Relatively fast-paced\n",
    "-   Focus is on `ggplot2` graphics--other packages will not be covered\n",
    "\n",
    "Starting A The End\n",
    "------------------\n",
    "\n",
    "My goal: by the end of the workshop you will be able to reproduce this graphic from the Economist:\n",
    "\n",
    "![](images/Economist1.png)\n",
    "\n",
    "Why `ggplot2`?\n",
    "--------------\n",
    "\n",
    "Advantages of ggplot2\n",
    "\n",
    "-   consistent underlying `grammar of graphics` (Wilkinson, 2005)\n",
    "-   plot specification at a high level of abstraction\n",
    "-   very flexible\n",
    "-   theme system for polishing plot appearance\n",
    "-   mature and complete graphics system\n",
    "-   many users, active mailing list\n",
    "\n",
    "That said, there are some things you cannot (or should not) do With ggplot2:\n",
    "\n",
    "-   3-dimensional graphics (see the rgl package)\n",
    "-   Graph-theory type graphs (nodes/edges layout; see the igraph package)\n",
    "-   Interactive graphics (see the ggvis package)\n",
    "\n",
    "What Is The Grammar Of Graphics?\n",
    "--------------------------------\n",
    "\n",
    "The basic idea: independently specify plot building blocks and combine them to create just about any kind of graphical display you want. Building blocks of a graph include:\n",
    "\n",
    "-   data\n",
    "-   aesthetic mapping\n",
    "-   geometric object\n",
    "-   statistical transformations\n",
    "-   scales\n",
    "-   coordinate system\n",
    "-   position adjustments\n",
    "-   faceting\n",
    "\n",
    "The structure of a `ggplot`\n",
    "---------------------------\n",
    "\n",
    "The `ggplot()` function is used to initialize the basic graph structure, then we add to it. The structure of a ggplot looks like this:"
   ]
  },
  {
   "cell_type": "code",
   "execution_count": null,
   "metadata": {},
   "outputs": [],
   "source": [
    "  ggplot(data = <default data set>, \n",
    "         aes(x = <default x axis variable>,\n",
    "             y = <default y axis variable>,\n",
    "             ... <other default aesthetic mappings>),\n",
    "         ... <other plot defaults>) +\n",
    "\n",
    "         geom_<geom type>(aes(size = <size variable for this geom>, \n",
    "                        ... <other aesthetic mappings>),\n",
    "                    data = <data for this point geom>,\n",
    "                    stat = <statistic string or function>,\n",
    "                    position = <position string or function>,\n",
    "                    color = <\"fixed color specification\">,\n",
    "                    <other arguments, possibly passed to the _stat_ function) +\n",
    "\n",
    "    scale_<aesthetic>_<type>(name = <\"scale label\">,\n",
    "                       breaks = <where to put tick marks>,\n",
    "                       labels = <labels for tick marks>,\n",
    "                       ... <other options for the scale>) +\n",
    "\n",
    "    theme(plot.background = element_rect(fill = \"gray\"),\n",
    "          ... <other theme elements>)"
   ]
  },
  {
   "cell_type": "markdown",
   "metadata": {},
   "source": [
    "Don't be afraid, you will understand this by the end of the workshop! The basic idea is that you specify different parts of the plot, and add them together using the `+` operator.\n",
    "\n",
    "Example Data: `Housing prices`\n",
    "------------------------------\n",
    "\n",
    "Let's look at housing prices."
   ]
  },
  {
   "cell_type": "code",
   "execution_count": null,
   "metadata": {},
   "outputs": [],
   "source": [
    "  housing <- read.csv(\"dataSets/landdata-states.csv\")\n",
    "  head(housing[1:5])"
   ]
  },
  {
   "cell_type": "markdown",
   "metadata": {},
   "source": [
    "(Data from <https://www.lincolninst.edu/subcenters/land-values/land-prices-by-state.asp>)\n",
    "\n",
    "`ggplot2` VS Base Graphics\n",
    "--------------------------\n",
    "\n",
    "Compared to base graphics, `ggplot2`\n",
    "\n",
    "-   is more verbose for simple / canned graphics\n",
    "-   is less verbose for complex / custom graphics\n",
    "-   does not have methods (data should always be in a `data.frame`)\n",
    "-   uses a different system for adding plot elements\n",
    "\n",
    "`ggplot2` VS Base for simple graphs\n",
    "-----------------------------------\n",
    "\n",
    "Base graphics histogram example:"
   ]
  },
  {
   "cell_type": "code",
   "execution_count": null,
   "metadata": {},
   "outputs": [],
   "source": [
    "  hist(housing$Home.Value)"
   ]
  },
  {
   "cell_type": "markdown",
   "metadata": {},
   "source": [
    "`ggplot2` histogram example:"
   ]
  },
  {
   "cell_type": "code",
   "execution_count": null,
   "metadata": {},
   "outputs": [],
   "source": [
    "  library(ggplot2)\n",
    "  ggplot(housing, aes(x = Home.Value)) +\n",
    "    geom_histogram()"
   ]
  },
  {
   "cell_type": "markdown",
   "metadata": {},
   "source": [
    "Base wins!\n",
    "\n",
    "`ggplot2` Base graphics VS `ggplot` for more complex graphs:\n",
    "------------------------------------------------------------\n",
    "\n",
    "Base colored scatter plot example:"
   ]
  },
  {
   "cell_type": "code",
   "execution_count": null,
   "metadata": {},
   "outputs": [],
   "source": [
    "  plot(Home.Value ~ Date,\n",
    "       data=subset(housing, State == \"MA\"))\n",
    "  points(Home.Value ~ Date, col=\"red\",\n",
    "         data=subset(housing, State == \"TX\"))\n",
    "  legend(19750, 400000,\n",
    "         c(\"MA\", \"TX\"), title=\"State\",\n",
    "         col=c(\"black\", \"red\"),\n",
    "         pch=c(1, 1))"
   ]
  },
  {
   "cell_type": "markdown",
   "metadata": {},
   "source": [
    "`ggplot2` colored scatter plot example:"
   ]
  },
  {
   "cell_type": "code",
   "execution_count": null,
   "metadata": {},
   "outputs": [],
   "source": [
    "  ggplot(subset(housing, State %in% c(\"MA\", \"TX\")),\n",
    "         aes(x=Date,\n",
    "             y=Home.Value,\n",
    "             color=State))+\n",
    "    geom_point()"
   ]
  },
  {
   "cell_type": "markdown",
   "metadata": {},
   "source": [
    "`ggplot2` wins!\n",
    "\n",
    "Geometric Objects And Aesthetics\n",
    "================================\n",
    "\n",
    "Aesthetic Mapping\n",
    "-----------------\n",
    "\n",
    "In ggplot land *aesthetic* means \"something you can see\". Examples include:\n",
    "\n",
    "-   position (i.e., on the x and y axes)\n",
    "-   color (\"outside\" color)\n",
    "-   fill (\"inside\" color)\n",
    "-   shape (of points)\n",
    "-   linetype\n",
    "-   size\n",
    "\n",
    "Each type of geom accepts only a subset of all aesthetics--refer to the geom help pages to see what mappings each geom accepts. Aesthetic mappings are set with the `aes()` function.\n",
    "\n",
    "Geometic Objects (`geom`)\n",
    "-------------------------\n",
    "\n",
    "Geometric objects are the actual marks we put on a plot. Examples include:\n",
    "\n",
    "-   points (`geom_point`, for scatter plots, dot plots, etc)\n",
    "-   lines (`geom_line`, for time series, trend lines, etc)\n",
    "-   boxplot (`geom_boxplot`, for, well, boxplots!)\n",
    "\n",
    "A plot must have at least one geom; there is no upper limit. You can add a geom to a plot using the `+` operator\n",
    "\n",
    "You can get a list of available geometric objects using the code below:"
   ]
  },
  {
   "cell_type": "code",
   "execution_count": null,
   "metadata": {},
   "outputs": [],
   "source": [
    "  help.search(\"geom_\", package = \"ggplot2\")"
   ]
  },
  {
   "cell_type": "markdown",
   "metadata": {},
   "source": [
    "or simply type `geom_<tab>` in any good R IDE (such as Rstudio or ESS) to see a list of functions starting with `geom_`.\n",
    "\n",
    "Points (Scatterplot)\n",
    "--------------------\n",
    "\n",
    "Now that we know about geometric objects and aesthetic mapping, we can make a ggplot. `geom_point` requires mappings for x and y, all others are optional."
   ]
  },
  {
   "cell_type": "code",
   "execution_count": null,
   "metadata": {},
   "outputs": [],
   "source": [
    "  hp2001Q1 <- subset(housing, Date == 20011) \n",
    "  ggplot(hp2001Q1,\n",
    "         aes(y = Structure.Cost, x = Land.Value)) +\n",
    "    geom_point()"
   ]
  },
  {
   "cell_type": "markdown",
   "metadata": {},
   "source": [
    "Lines (Prediction Line)\n",
    "-----------------------\n",
    "\n",
    "A plot constructed with `ggplot` can have more than one geom. In that case the mappings established in the `ggplot()` call are plot defaults that can be added to or overridden. Our plot could use a regression line:"
   ]
  },
  {
   "cell_type": "code",
   "execution_count": null,
   "metadata": {},
   "outputs": [],
   "source": [
    "  hp2001Q1$pred.SC <- predict(lm(Structure.Cost ~ Land.Value, data = hp2001Q1))\n",
    "\n",
    "  p1 <- ggplot(hp2001Q1, aes(x = Land.Value, y = Structure.Cost))\n",
    "\n",
    "  p1 + geom_point(aes(color = Home.Value)) +\n",
    "    geom_line(aes(y = pred.SC))"
   ]
  },
  {
   "cell_type": "markdown",
   "metadata": {},
   "source": [
    "Smoothers\n",
    "---------\n",
    "\n",
    "Not all geometric objects are simple shapes--the smooth geom includes a line and a ribbon."
   ]
  },
  {
   "cell_type": "code",
   "execution_count": null,
   "metadata": {},
   "outputs": [],
   "source": [
    "  p1 +\n",
    "    geom_point(aes(color = Home.Value)) +\n",
    "    geom_smooth()"
   ]
  },
  {
   "cell_type": "markdown",
   "metadata": {},
   "source": [
    "Text (Label Points)\n",
    "-------------------\n",
    "\n",
    "Each `geom` accepts a particualar set of mappings--for example `geom_text()` accepts a `labels` mapping."
   ]
  },
  {
   "cell_type": "code",
   "execution_count": null,
   "metadata": {},
   "outputs": [],
   "source": [
    "  p1 + \n",
    "    geom_text(aes(label=State), size = 3)"
   ]
  },
  {
   "cell_type": "code",
   "execution_count": null,
   "metadata": {},
   "outputs": [],
   "source": [
    "  ## install.packages(\"ggrepel\") \n",
    "  library(\"ggrepel\")\n",
    "  p1 + \n",
    "    geom_point() + \n",
    "    geom_text_repel(aes(label=State), size = 3)"
   ]
  },
  {
   "cell_type": "markdown",
   "metadata": {},
   "source": [
    "Aesthetic Mapping VS Assignment\n",
    "-------------------------------\n",
    "\n",
    "Note that variables are mapped to aesthetics with the `aes()` function, while fixed aesthetics are set outside the `aes()` call. This sometimes leads to confusion, as in this example:"
   ]
  },
  {
   "cell_type": "code",
   "execution_count": null,
   "metadata": {},
   "outputs": [],
   "source": [
    "  p1 +\n",
    "    geom_point(aes(size = 2),# incorrect! 2 is not a variable\n",
    "               color=\"red\") # this is fine -- all points red"
   ]
  },
  {
   "cell_type": "markdown",
   "metadata": {},
   "source": [
    "Mapping Variables To Other Aesthetics\n",
    "-------------------------------------\n",
    "\n",
    "Other aesthetics are mapped in the same way as x and y in the previous example."
   ]
  },
  {
   "cell_type": "code",
   "execution_count": null,
   "metadata": {},
   "outputs": [],
   "source": [
    "  p1 +\n",
    "    geom_point(aes(color=Home.Value, shape = region))"
   ]
  },
  {
   "cell_type": "markdown",
   "metadata": {},
   "source": [
    "Exercise I\n",
    "----------\n",
    "\n",
    "The data for the exercises is available in the `dataSets/EconomistData.csv` file. Read it in with"
   ]
  },
  {
   "cell_type": "code",
   "execution_count": null,
   "metadata": {},
   "outputs": [],
   "source": [
    "  dat <- read.csv(\"dataSets/EconomistData.csv\")"
   ]
  },
  {
   "cell_type": "markdown",
   "metadata": {},
   "source": [
    "Original sources for these data are <http://www.transparency.org/content/download/64476/1031428> <http://hdrstats.undp.org/en/indicators/display_cf_xls_indicator.cfm?indicator_id=103106&lang=en>\n",
    "\n",
    "These data consist of *Human Development Index* and *Corruption Perception Index* scores for several countries.\n",
    "\n",
    "1.  Create a scatter plot with CPI on the x axis and HDI on the y axis.\n",
    "2.  Color the points in the previous plot blue.\n",
    "3.  Color the points in the previous plot according to *Region*.\n",
    "4.  Create boxplots of CPI by Region\n",
    "5.  Overlay points on top of the box plots\n",
    "\n",
    "Exercise I prototype<span class=\"tag\" data-tag-name=\"prototype\"></span>\n",
    "-----------------------------------------------------------------------\n",
    "\n",
    "1.  \\[@1\\] Create a scatter plot with CPI on the x axis and HDI on the y axis."
   ]
  },
  {
   "cell_type": "code",
   "execution_count": null,
   "metadata": {},
   "outputs": [],
   "source": [
    "  ggplot(dat, aes(x = CPI, y = HDI)) +\n",
    "    geom_point()"
   ]
  },
  {
   "cell_type": "markdown",
   "metadata": {},
   "source": [
    "1.  \\[@2\\] Color the points in the previous plot blue."
   ]
  },
  {
   "cell_type": "code",
   "execution_count": null,
   "metadata": {},
   "outputs": [],
   "source": [
    "  ggplot(dat, aes(x = CPI, y = HDI)) +\n",
    "    geom_point(color = \"blue\")"
   ]
  },
  {
   "cell_type": "markdown",
   "metadata": {},
   "source": [
    "1.  \\[@3\\] Color the points in the previous plot according to *Region*."
   ]
  },
  {
   "cell_type": "code",
   "execution_count": null,
   "metadata": {},
   "outputs": [],
   "source": [
    "  ggplot(dat, aes(x = CPI, y = HDI)) +\n",
    "    geom_point(aes(color = Region))"
   ]
  },
  {
   "cell_type": "markdown",
   "metadata": {},
   "source": [
    "1.  \\[@4\\] Create boxplots of CPI by Region"
   ]
  },
  {
   "cell_type": "code",
   "execution_count": null,
   "metadata": {},
   "outputs": [],
   "source": [
    "  ggplot(dat, aes(x = Region, y = CPI)) +\n",
    "    geom_boxplot()"
   ]
  },
  {
   "cell_type": "markdown",
   "metadata": {},
   "source": [
    "1.  \\[@5\\] Overlay points on top of the box plots"
   ]
  },
  {
   "cell_type": "code",
   "execution_count": null,
   "metadata": {},
   "outputs": [],
   "source": [
    "  ggplot(dat, aes(x = Region, y = CPI)) +\n",
    "    geom_boxplot() +\n",
    "    geom_point() "
   ]
  },
  {
   "cell_type": "markdown",
   "metadata": {},
   "source": [
    "Statistical Transformations\n",
    "===========================\n",
    "\n",
    "Statistical Transformations\n",
    "---------------------------\n",
    "\n",
    "Some plot types (such as scatterplots) do not require transformations--each point is plotted at x and y coordinates equal to the original value. Other plots, such as boxplots, histograms, prediction lines etc. require statistical transformations:\n",
    "\n",
    "-   for a boxplot the y values must be transformed to the median and 1.5(IQR)\n",
    "-   for a smoother smother the y values must be transformed into predicted values\n",
    "\n",
    "Each `geom` has a default statistic, but these can be changed. For example, the default statistic for `geom_bar` is `stat_count`:"
   ]
  },
  {
   "cell_type": "code",
   "execution_count": null,
   "metadata": {},
   "outputs": [],
   "source": [
    "  args(geom_histogram)\n",
    "  args(stat_bin)"
   ]
  },
  {
   "cell_type": "markdown",
   "metadata": {},
   "source": [
    "Setting Statistical Transformation Arguments\n",
    "--------------------------------------------\n",
    "\n",
    "Arguments to `stat_` functions can be passed through `geom_` functions. This can be slightly annoying because in order to change it you have to first determine which stat the geom uses, then determine the arguments to that stat.\n",
    "\n",
    "For example, here is the default histogram of Home.Value:"
   ]
  },
  {
   "cell_type": "code",
   "execution_count": null,
   "metadata": {},
   "outputs": [],
   "source": [
    "  p2 <- ggplot(housing, aes(x = Home.Value))\n",
    "  p2 + geom_histogram()"
   ]
  },
  {
   "cell_type": "markdown",
   "metadata": {},
   "source": [
    "The binwidth looks reasonable by default, but we can change it by passing the `binwidth` argument to the `stat_bin` function:"
   ]
  },
  {
   "cell_type": "code",
   "execution_count": null,
   "metadata": {},
   "outputs": [],
   "source": [
    "  p2 + geom_histogram(stat = \"bin\", binwidth=4000)"
   ]
  },
  {
   "cell_type": "markdown",
   "metadata": {},
   "source": [
    "Changing The Statistical Transformation\n",
    "---------------------------------------\n",
    "\n",
    "Sometimes the default statistical transformation is not what you need. This is often the case with pre-summarized data:"
   ]
  },
  {
   "cell_type": "code",
   "execution_count": null,
   "metadata": {},
   "outputs": [],
   "source": [
    "  housing.sum <- aggregate(housing[\"Home.Value\"], housing[\"State\"], FUN=mean)\n",
    "  rbind(head(housing.sum), tail(housing.sum))"
   ]
  },
  {
   "cell_type": "code",
   "execution_count": null,
   "metadata": {},
   "outputs": [],
   "source": [
    "  ggplot(housing.sum, aes(x=State, y=Home.Value)) + \n",
    "    geom_bar()"
   ]
  },
  {
   "cell_type": "markdown",
   "metadata": {},
   "source": [
    "``` example\n",
    "ggplot(housing.sum, aes(x=State, y=Home.Value)) + \n",
    "  geom_bar()\n",
    "Error: stat_count() must not be used with a y aesthetic.\n",
    "```\n"
   ]
  },
  {
   "cell_type": "markdown",
   "metadata": {},
   "source": [
    "What is the problem with the previous plot? Basically we take binned and summarized data and ask ggplot to bin and summarize it again (remember, `geom_bar` defaults to `stat ` stat<sub>count</sub>=); obviously this will not work. We can fix it by telling `geom_bar` to use a different statistical transformation function:"
   ]
  },
  {
   "cell_type": "code",
   "execution_count": null,
   "metadata": {},
   "outputs": [],
   "source": [
    "  ggplot(housing.sum, aes(x=State, y=Home.Value)) + \n",
    "    geom_bar(stat=\"identity\")"
   ]
  },
  {
   "cell_type": "markdown",
   "metadata": {},
   "source": [
    "Exercise II\n",
    "-----------\n",
    "\n",
    "1.  Re-create a scatter plot with CPI on the x axis and HDI on the y axis (as you did in the previous exercise).\n",
    "2.  Overlay a smoothing line on top of the scatter plot using the *lm* method. Hint: see `?stat_smooth`.\n",
    "3.  Overlay a smoothing line on top of the scatter plot using the default method.\n",
    "4.  BONUS (optional): Overlay a smoothing line on top of the scatter plot using the default *loess* method, but make it less smooth. Hint: see `?loess`.\n",
    "\n",
    "Exercise II prototype<span class=\"tag\" data-tag-name=\"prototype\"></span>\n",
    "------------------------------------------------------------------------\n",
    "\n",
    "1.  \\[@1\\] Re-create a scatter plot with CPI on the x axis and HDI on the y axis (as you did in the previous exercise)."
   ]
  },
  {
   "cell_type": "code",
   "execution_count": null,
   "metadata": {},
   "outputs": [],
   "source": [
    "  ggplot(dat, aes(x = CPI, y = HDI)) +\n",
    "    geom_point()"
   ]
  },
  {
   "cell_type": "markdown",
   "metadata": {},
   "source": [
    "1.  \\[@2\\] Overlay a smoothing line on top of the scatter plot using the *lm* method. Hint: see `?stat_smooth`."
   ]
  },
  {
   "cell_type": "code",
   "execution_count": null,
   "metadata": {},
   "outputs": [],
   "source": [
    "  ggplot(dat, aes(x = CPI, y = HDI)) +\n",
    "    geom_point() +\n",
    "    geom_smooth(method = \"lm\")"
   ]
  },
  {
   "cell_type": "markdown",
   "metadata": {},
   "source": [
    "1.  \\[@3\\] Overlay a smoothing line on top of the scatter plot using the default method."
   ]
  },
  {
   "cell_type": "code",
   "execution_count": null,
   "metadata": {},
   "outputs": [],
   "source": [
    "  ggplot(dat, aes(x = CPI, y = HDI)) +\n",
    "    geom_point() +\n",
    "    geom_smooth()"
   ]
  },
  {
   "cell_type": "markdown",
   "metadata": {},
   "source": [
    "1.  \\[@4\\] BONUS (optional): Overlay a smoothing line on top of the scatter plot using the default *loess* method, but make it less smooth. Hint: see `?loess`."
   ]
  },
  {
   "cell_type": "code",
   "execution_count": null,
   "metadata": {},
   "outputs": [],
   "source": [
    "  ggplot(dat, aes(x = CPI, y = HDI)) +\n",
    "    geom_point() +\n",
    "    geom_smooth(span = .4)"
   ]
  },
  {
   "cell_type": "markdown",
   "metadata": {},
   "source": [
    "Scales\n",
    "======\n",
    "\n",
    "Scales: Controlling Aesthetic Mapping\n",
    "-------------------------------------\n",
    "\n",
    "Aesthetic mapping (i.e., with `aes()`) only says that a variable should be mapped to an aesthetic. It doesn't say *how* that should happy. For example, when mapping a variable to *shape* with `aes(shape ` x)= you don't say *what* shapes should be used. Similarly, `aes(color ` z)= doesn't say *what* colors should be used. Describing what colors/shapes/sizes etc. to use is done by modifying the corresponding *scale*. In `ggplot2` scales include\n",
    "\n",
    "-   position\n",
    "-   color and fill\n",
    "-   size\n",
    "-   shape\n",
    "-   line type\n",
    "\n",
    "Scales are modified with a series of functions using a `scale_<aesthetic>_<type>` naming scheme. Try typing `scale_<tab>` to see a list of scale modification functions.\n",
    "\n",
    "Common Scale Arguments\n",
    "----------------------\n",
    "\n",
    "The following arguments are common to most scales in ggplot2:\n",
    "\n",
    "name  \n",
    "the first argument gives the axis or legend title\n",
    "\n",
    "limits  \n",
    "the minimum and maximum of the scale\n",
    "\n",
    "breaks  \n",
    "the points along the scale where labels should appear\n",
    "\n",
    "labels  \n",
    "the labels that appear at each break\n",
    "\n",
    "Specific scale functions may have additional arguments; for example, the `scale_color_continuous` function has arguments `low` and `high` for setting the colors at the low and high end of the scale.\n",
    "\n",
    "Scale Modification Examples\n",
    "---------------------------\n",
    "\n",
    "Start by constructing a dotplot showing the distribution of home values by Date and State."
   ]
  },
  {
   "cell_type": "code",
   "execution_count": null,
   "metadata": {},
   "outputs": [],
   "source": [
    "  p3 <- ggplot(housing,\n",
    "               aes(x = State,\n",
    "                   y = Home.Price.Index)) + \n",
    "          theme(legend.position=\"top\",\n",
    "                axis.text=element_text(size = 6))\n",
    "  (p4 <- p3 + geom_point(aes(color = Date),\n",
    "                         alpha = 0.5,\n",
    "                         size = 1.5,\n",
    "                         position = position_jitter(width = 0.25, height = 0)))"
   ]
  },
  {
   "cell_type": "markdown",
   "metadata": {},
   "source": [
    "Now modify the breaks and labels for the x axis and color scales"
   ]
  },
  {
   "cell_type": "code",
   "execution_count": null,
   "metadata": {},
   "outputs": [],
   "source": [
    "  p4 + scale_x_discrete(name=\"State Abbreviation\") +\n",
    "    scale_color_continuous(name=\"\",\n",
    "                           breaks = c(19751, 19941, 20131),\n",
    "                           labels = c(1971, 1994, 2013))"
   ]
  },
  {
   "cell_type": "markdown",
   "metadata": {},
   "source": [
    "Next change the low and high values to blue and red:"
   ]
  },
  {
   "cell_type": "code",
   "execution_count": null,
   "metadata": {},
   "outputs": [],
   "source": [
    "  p4 +\n",
    "    scale_x_discrete(name=\"State Abbreviation\") +\n",
    "    scale_color_continuous(name=\"\",\n",
    "                           breaks = c(19751, 19941, 20131),\n",
    "                           labels = c(1971, 1994, 2013),\n",
    "                           low = \"blue\", high = \"red\")"
   ]
  },
  {
   "cell_type": "code",
   "execution_count": null,
   "metadata": {},
   "outputs": [],
   "source": [
    "  p4 +\n",
    "    scale_color_continuous(name=\"\",\n",
    "                           breaks = c(19751, 19941, 20131),\n",
    "                           labels = c(1971, 1994, 2013),\n",
    "                           low = muted(\"blue\"), high = muted(\"red\"))"
   ]
  },
  {
   "cell_type": "markdown",
   "metadata": {},
   "source": [
    "Using different color scales\n",
    "----------------------------\n",
    "\n",
    "ggplot2 has a wide variety of color scales; here is an example using `scale_color_gradient2` to interpolate between three different colors."
   ]
  },
  {
   "cell_type": "code",
   "execution_count": null,
   "metadata": {},
   "outputs": [],
   "source": [
    "  p4 +\n",
    "    scale_color_gradient2(name=\"\",\n",
    "                          breaks = c(19751, 19941, 20131),\n",
    "                          labels = c(1971, 1994, 2013),\n",
    "                          low = muted(\"blue\"),\n",
    "                          high = muted(\"red\"),\n",
    "                          mid = \"gray60\",\n",
    "                          midpoint = 19941)"
   ]
  },
  {
   "cell_type": "markdown",
   "metadata": {},
   "source": [
    "Available Scales\n",
    "----------------\n",
    "\n",
    "-   Partial combination matrix of available scales\n",
    "\n",
    "| **Scale**                  | **Types**  | **Examples**                     |\n",
    "|----------------------------|------------|----------------------------------|\n",
    "| scale<sub>color</sub>\\_    | identity   | scale<sub>fillcontinuous</sub>   |\n",
    "| scale<sub>fill</sub>\\_     | manual     | scale<sub>colordiscrete</sub>    |\n",
    "| scale<sub>size</sub>\\_     | continuous | scale<sub>sizemanual</sub>       |\n",
    "|                            | discrete   | scale<sub>sizediscrete</sub>     |\n",
    "| scale<sub>shape</sub>\\_    | discrete   | scale<sub>shapediscrete</sub>    |\n",
    "| scale<sub>linetype</sub>\\_ | identity   | scale<sub>shapemanual</sub>      |\n",
    "|                            | manual     | scale<sub>linetypediscrete</sub> |\n",
    "| scale<sub>x</sub>\\_        | continuous | scale<sub>xcontinuous</sub>      |\n",
    "| scale<sub>y</sub>\\_        | discrete   | scale<sub>ydiscrete</sub>        |\n",
    "|                            | reverse    | scale<sub>xlog</sub>             |\n",
    "|                            | log        | scale<sub>yreverse</sub>         |\n",
    "|                            | date       | scale<sub>xdate</sub>            |\n",
    "|                            | datetime   | scale<sub>ydatetime</sub>        |\n",
    "\n",
    "Note that in RStudio you can type `scale_` followed by TAB to get the whole list of available scales.\n",
    "\n",
    "Exercise III\n",
    "------------\n",
    "\n",
    "1.  Create a scatter plot with CPI on the x axis and HDI on the y axis. Color the points to indicate region.\n",
    "2.  Modify the x, y, and color scales so that they have more easily-understood names (e.g., spell out \"Human development Index\" instead of \"HDI\").\n",
    "3.  Modify the color scale to use specific values of your choosing. Hint: see `?scale_color_manual`.\n",
    "\n",
    "Exercise III prototype<span class=\"tag\" data-tag-name=\"prototype\"></span>\n",
    "-------------------------------------------------------------------------\n",
    "\n",
    "1.  \\[@1\\] Create a scatter plot with CPI on the x axis and HDI on the y axis. Color the points to indicate region."
   ]
  },
  {
   "cell_type": "code",
   "execution_count": null,
   "metadata": {},
   "outputs": [],
   "source": [
    "  ggplot(dat, aes(x = CPI, y = HDI, color = \"Region\")) +\n",
    "    geom_point()"
   ]
  },
  {
   "cell_type": "markdown",
   "metadata": {},
   "source": [
    "1.  \\[@2\\] Modify the x, y, and color scales so that they have more easily-understood names (e.g., spell out \"Human development Index\" instead of \"HDI\")."
   ]
  },
  {
   "cell_type": "code",
   "execution_count": null,
   "metadata": {},
   "outputs": [],
   "source": [
    "  ggplot(dat, aes(x = CPI, y = HDI, color = \"Region\")) +\n",
    "  geom_point() +\n",
    "  scale_x_continuous(name = \"Corruption Perception Index\") +\n",
    "  scale_y_continuous(name = \"Human Development Index\") +\n",
    "  scale_color_discrete(name = \"Region of the world\")"
   ]
  },
  {
   "cell_type": "markdown",
   "metadata": {},
   "source": [
    "1.  \\[@3\\] Modify the color scale to use specific values of your choosing. Hint: see `?scale_color_manual`."
   ]
  },
  {
   "cell_type": "code",
   "execution_count": null,
   "metadata": {},
   "outputs": [],
   "source": [
    "  ggplot(dat, aes(x = CPI, y = HDI, color = \"Region\")) +\n",
    "  geom_point() +\n",
    "  scale_x_continuous(name = \"Corruption Perception Index\") +\n",
    "  scale_y_continuous(name = \"Human Development Index\") +\n",
    "    scale_color_manual(name = \"Region of the world\",\n",
    "                       values = c(\"#24576D\",\n",
    "                                  \"#099DD7\",\n",
    "                                  \"#28AADC\",\n",
    "                                  \"#248E84\",\n",
    "                                  \"#F2583F\",\n",
    "                                  \"#96503F\"))"
   ]
  },
  {
   "cell_type": "markdown",
   "metadata": {},
   "source": [
    "Faceting\n",
    "========\n",
    "\n",
    "Faceting\n",
    "--------\n",
    "\n",
    "-   Faceting is `ggplot2` parlance for **small multiples**\n",
    "-   The idea is to create separate graphs for subsets of data\n",
    "-   `ggplot2` offers two functions for creating small multiples:\n",
    "    1.  `facet_wrap()`: define subsets as the levels of a single grouping variable\n",
    "    2.  `facet_grid()`: define subsets as the crossing of two grouping variables\n",
    "-   Facilitates comparison among plots, not just of geoms within a plot\n",
    "\n",
    "What is the trend in housing prices in each state?\n",
    "--------------------------------------------------\n",
    "\n",
    "-   Start by using a technique we already know--map State to color:"
   ]
  },
  {
   "cell_type": "code",
   "execution_count": null,
   "metadata": {},
   "outputs": [],
   "source": [
    "  p5 <- ggplot(housing, aes(x = Date, y = Home.Value))\n",
    "  p5 + geom_line(aes(color = State))  "
   ]
  },
  {
   "cell_type": "markdown",
   "metadata": {},
   "source": [
    "There are two problems here--there are too many states to distinguish each one by color, and the lines obscure one another.\n",
    "\n",
    "Faceting to the rescue\n",
    "----------------------\n",
    "\n",
    "We can remedy the deficiencies of the previous plot by faceting by state rather than mapping state to color."
   ]
  },
  {
   "cell_type": "code",
   "execution_count": null,
   "metadata": {},
   "outputs": [],
   "source": [
    "  (p5 <- p5 + geom_line() +\n",
    "     facet_wrap(~State, ncol = 10))"
   ]
  },
  {
   "cell_type": "markdown",
   "metadata": {},
   "source": [
    "There is also a `facet_grid()` function for faceting in two dimensions.\n",
    "\n",
    "Themes\n",
    "======\n",
    "\n",
    "Themes\n",
    "------\n",
    "\n",
    "The `ggplot2` theme system handles non-data plot elements such as\n",
    "\n",
    "-   Axis labels\n",
    "-   Plot background\n",
    "-   Facet label backround\n",
    "-   Legend appearance\n",
    "\n",
    "Built-in themes include:\n",
    "\n",
    "-   `theme_gray()` (default)\n",
    "-   `theme_bw()`\n",
    "-   `theme_classc()`"
   ]
  },
  {
   "cell_type": "code",
   "execution_count": null,
   "metadata": {},
   "outputs": [],
   "source": [
    "  p5 + theme_linedraw()"
   ]
  },
  {
   "cell_type": "code",
   "execution_count": null,
   "metadata": {},
   "outputs": [],
   "source": [
    "  p5 + theme_light()"
   ]
  },
  {
   "cell_type": "markdown",
   "metadata": {},
   "source": [
    "Overriding theme defaults\n",
    "-------------------------\n",
    "\n",
    "Specific theme elements can be overridden using `theme()`. For example:"
   ]
  },
  {
   "cell_type": "code",
   "execution_count": null,
   "metadata": {},
   "outputs": [],
   "source": [
    "  p5 + theme_minimal() +\n",
    "    theme(text = element_text(color = \"turquoise\"))"
   ]
  },
  {
   "cell_type": "markdown",
   "metadata": {},
   "source": [
    "All theme options are documented in `?theme`.\n",
    "\n",
    "Creating and saving new themes\n",
    "------------------------------\n",
    "\n",
    "You can create new themes, as in the following example:"
   ]
  },
  {
   "cell_type": "code",
   "execution_count": null,
   "metadata": {},
   "outputs": [],
   "source": [
    "  theme_new <- theme_bw() +\n",
    "    theme(plot.background = element_rect(size = 1, color = \"blue\", fill = \"black\"),\n",
    "          text=element_text(size = 12, family = \"Serif\", color = \"ivory\"),\n",
    "          axis.text.y = element_text(colour = \"purple\"),\n",
    "          axis.text.x = element_text(colour = \"red\"),\n",
    "          panel.background = element_rect(fill = \"pink\"),\n",
    "          strip.background = element_rect(fill = muted(\"orange\")))\n",
    "\n",
    "  p5 + theme_new"
   ]
  },
  {
   "cell_type": "markdown",
   "metadata": {},
   "source": [
    "The \\#1 FAQ\n",
    "===========\n",
    "\n",
    "Map Aesthetic To Different Columns\n",
    "----------------------------------\n",
    "\n",
    "The most frequently asked question goes something like this: *I have two variables in my data.frame, and I'd like to plot them as separate points, with different color depending on which variable it is. How do I do that?*\n",
    "\n",
    "### Wrong"
   ]
  },
  {
   "cell_type": "code",
   "execution_count": null,
   "metadata": {},
   "outputs": [],
   "source": [
    "  housing.byyear <- aggregate(cbind(Home.Value, Land.Value) ~ Date, data = housing, mean)\n",
    "  ggplot(housing.byyear,\n",
    "         aes(x=Date)) +\n",
    "    geom_line(aes(y=Home.Value), color=\"red\") +\n",
    "    geom_line(aes(y=Land.Value), color=\"blue\")\n",
    "\n",
    "\n",
    "  #"
   ]
  },
  {
   "cell_type": "markdown",
   "metadata": {},
   "source": [
    "### Right"
   ]
  },
  {
   "cell_type": "code",
   "execution_count": null,
   "metadata": {},
   "outputs": [],
   "source": [
    "  library(tidyr)\n",
    "  home.land.byyear <- gather(housing.byyear,\n",
    "                             value = \"value\",\n",
    "                             key = \"type\",\n",
    "                             Home.Value, Land.Value)\n",
    "  ggplot(home.land.byyear,\n",
    "         aes(x=Date,\n",
    "             y=value,\n",
    "             color=type)) +\n",
    "    geom_line()"
   ]
  },
  {
   "cell_type": "markdown",
   "metadata": {},
   "source": [
    "Putting It All Together\n",
    "=======================\n",
    "\n",
    "Challenge: Recreate This `Economist` Graph\n",
    "------------------------------------------\n",
    "\n",
    "[file:images/Economist1.pdf](images/Economist1.pdf)\n",
    "\n",
    "Graph source: <http://www.economist.com/node/21541178>\n",
    "\n",
    "Building off of the graphics you created in the previous exercises, put the finishing touches to make it as close as possible to the original economist graph.\n",
    "\n",
    "![](images/Economist1.png)\n",
    "\n",
    "Challenge Solution<span class=\"tag\" data-tag-name=\"prototype\"></span>\n",
    "=====================================================================\n",
    "\n",
    "Lets start by creating the basic scatter plot, then we can make a list of things that need to be added or changed. The basic plot loogs like this:"
   ]
  },
  {
   "cell_type": "code",
   "execution_count": null,
   "metadata": {},
   "outputs": [],
   "source": [
    "  dat <- read.csv(\"dataSets/EconomistData.csv\")\n",
    "\n",
    "  pc1 <- ggplot(dat, aes(x = CPI, y = HDI, color = Region))\n",
    "  pc1 + geom_point()"
   ]
  },
  {
   "cell_type": "markdown",
   "metadata": {},
   "source": [
    "To complete this graph we need to:\n",
    "\n",
    "-   \\[ \\] add a trend line\n",
    "-   \\[ \\] change the point shape to open circle\n",
    "-   \\[ \\] change the order and labels of Region\n",
    "-   \\[ \\] label select points\n",
    "-   \\[ \\] fix up the tick marks and labels\n",
    "-   \\[ \\] move color legend to the top\n",
    "-   \\[ \\] title, label axes, remove legend title\n",
    "-   \\[ \\] theme the graph with no vertical guides\n",
    "-   \\[ \\] add model R<sup>2</sup> (hard)\n",
    "-   \\[ \\] add sources note (hard)\n",
    "-   \\[ \\] final touches to make it perfect (use image editor for this)\n",
    "\n",
    "Adding the trend line\n",
    "---------------------\n",
    "\n",
    "Adding the trend line is not too difficult, though we need to guess at the model being displyed on the graph. A little bit of trial and error leds to"
   ]
  },
  {
   "cell_type": "code",
   "execution_count": null,
   "metadata": {},
   "outputs": [],
   "source": [
    "  (pc2 <- pc1 +\n",
    "     geom_smooth(aes(group = 1),\n",
    "                 method = \"lm\",\n",
    "                 formula = y ~ log(x),\n",
    "                 se = FALSE,\n",
    "                 color = \"red\")) +\n",
    "     geom_point()"
   ]
  },
  {
   "cell_type": "markdown",
   "metadata": {},
   "source": [
    "Notice that we put the `geom_line` layer first so that it will be plotted underneath the points, as was done on the original graph.\n",
    "\n",
    "Use open points\n",
    "---------------\n",
    "\n",
    "This one is a little tricky. We know that we can change the shape with the `shape` argument, what what value do we set shape to? The example shown in `?shape` can help us:"
   ]
  },
  {
   "cell_type": "code",
   "execution_count": null,
   "metadata": {},
   "outputs": [],
   "source": [
    "  ## A look at all 25 symbols\n",
    "  df2 <- data.frame(x = 1:5 , y = 1:25, z = 1:25)\n",
    "  s <- ggplot(df2, aes(x = x, y = y))\n",
    "  s + geom_point(aes(shape = z), size = 4) + scale_shape_identity()\n",
    "  ## While all symbols have a foreground colour, symbols 19-25 also take a\n",
    "  ## background colour (fill)\n",
    "  s + geom_point(aes(shape = z), size = 4, colour = \"Red\") +\n",
    "    scale_shape_identity()\n",
    "  s + geom_point(aes(shape = z), size = 4, colour = \"Red\", fill = \"Black\") +\n",
    "    scale_shape_identity()"
   ]
  },
  {
   "cell_type": "markdown",
   "metadata": {},
   "source": [
    "This shows us that *shape 1* is an open circle, so"
   ]
  },
  {
   "cell_type": "code",
   "execution_count": null,
   "metadata": {},
   "outputs": [],
   "source": [
    "  pc2 +\n",
    "    geom_point(shape = 1, size = 4)"
   ]
  },
  {
   "cell_type": "markdown",
   "metadata": {},
   "source": [
    "That is better, but unfortunately the size of the line around the points is much narrower than on the original. This is a frustrating aspect of ggplot2, and we will have to hack around it. One way to do that is to multiple point layers of slightly different sizes."
   ]
  },
  {
   "cell_type": "code",
   "execution_count": null,
   "metadata": {},
   "outputs": [],
   "source": [
    "  (pc3 <- pc2 +\n",
    "     geom_point(size = 4.5, shape = 1) +\n",
    "     geom_point(size = 4, shape = 1) +\n",
    "     geom_point(size = 3.5, shape = 1))"
   ]
  },
  {
   "cell_type": "markdown",
   "metadata": {},
   "source": [
    "Labelling points\n",
    "----------------\n",
    "\n",
    "This one is tricky in a couple of ways. First, there is no attribute in the data that separates points that should be labelled from points that should not be. So the first step is to identify those points."
   ]
  },
  {
   "cell_type": "code",
   "execution_count": null,
   "metadata": {},
   "outputs": [],
   "source": [
    "  pointsToLabel <- c(\"Russia\", \"Venezuela\", \"Iraq\", \"Myanmar\", \"Sudan\",\n",
    "                     \"Afghanistan\", \"Congo\", \"Greece\", \"Argentina\", \"Brazil\",\n",
    "                     \"India\", \"Italy\", \"China\", \"South Africa\", \"Spane\",\n",
    "                     \"Botswana\", \"Cape Verde\", \"Bhutan\", \"Rwanda\", \"France\",\n",
    "                     \"United States\", \"Germany\", \"Britain\", \"Barbados\", \"Norway\", \"Japan\",\n",
    "                     \"New Zealand\", \"Singapore\")"
   ]
  },
  {
   "cell_type": "markdown",
   "metadata": {},
   "source": [
    "Now we can label these points using `geom_text`, like this:\n",
    "\n",
    "\\#+END<sub>SRC</sub>"
   ]
  },
  {
   "cell_type": "code",
   "execution_count": null,
   "metadata": {},
   "outputs": [],
   "source": [
    "  (pc4 <- pc3 +\n",
    "    geom_text(aes(label = Country),\n",
    "              color = \"gray20\",\n",
    "              data = subset(dat, Country %in% pointsToLabel)))"
   ]
  },
  {
   "cell_type": "markdown",
   "metadata": {},
   "source": [
    "This more or less gets the information across, but the labels overlap in a most unpleasing fashion. We can use the `ggrepel` package to make things better, but if you want perfection you will probably have to do some hand-adjustment."
   ]
  },
  {
   "cell_type": "code",
   "execution_count": null,
   "metadata": {},
   "outputs": [],
   "source": [
    "  library(\"ggrepel\")\n",
    "  pc3 +\n",
    "    geom_text_repel(aes(label = Country),\n",
    "              color = \"gray20\",\n",
    "              data = subset(dat, Country %in% pointsToLabel),\n",
    "              force = 10)"
   ]
  },
  {
   "cell_type": "markdown",
   "metadata": {},
   "source": [
    "Change the region labels and order\n",
    "----------------------------------\n",
    "\n",
    "Thinkgs are starting to come together. There are just a couple more things we need to add, and then all that will be left are themeing changes.\n",
    "\n",
    "Comparing our graph to the original we notice that the labels and order of the Regions in the color legend differ. To correct this we need to change both the labels and order of the Region variable. We can do this with the `factor` function."
   ]
  },
  {
   "cell_type": "code",
   "execution_count": null,
   "metadata": {},
   "outputs": [],
   "source": [
    "  dat$Region <- factor(dat$Region,\n",
    "                       levels = c(\"EU W. Europe\",\n",
    "                                  \"Americas\",\n",
    "                                  \"Asia Pacific\",\n",
    "                                  \"East EU Cemt Asia\",\n",
    "                                  \"MENA\",\n",
    "                                  \"SSA\"),\n",
    "                       labels = c(\"OECD\",\n",
    "                                  \"Americas\",\n",
    "                                  \"Asia &\\nOceania\",\n",
    "                                  \"Central &\\nEastern Europe\",\n",
    "                                  \"Middle East &\\nnorth Africa\",\n",
    "                                  \"Sub-Saharan\\nAfrica\"))"
   ]
  },
  {
   "cell_type": "markdown",
   "metadata": {},
   "source": [
    "Now when we construct the plot using these data the order should appear as it does in the original."
   ]
  },
  {
   "cell_type": "code",
   "execution_count": null,
   "metadata": {},
   "outputs": [],
   "source": [
    "  pc4$data <- dat\n",
    "  pc4"
   ]
  },
  {
   "cell_type": "markdown",
   "metadata": {},
   "source": [
    "Add title and format axes\n",
    "-------------------------\n",
    "\n",
    "The next step is to add the title and format the axes. We do that using the `scales` system in ggplot2."
   ]
  },
  {
   "cell_type": "code",
   "execution_count": null,
   "metadata": {},
   "outputs": [],
   "source": [
    "  library(grid)\n",
    "  (pc5 <- pc4 +\n",
    "    scale_x_continuous(name = \"Corruption Perceptions Index, 2011 (10=least corrupt)\",\n",
    "                       limits = c(.9, 10.5),\n",
    "                       breaks = 1:10) +\n",
    "    scale_y_continuous(name = \"Human Development Index, 2011 (1=Best)\",\n",
    "                       limits = c(0.2, 1.0),\n",
    "                       breaks = seq(0.2, 1.0, by = 0.1)) +\n",
    "    scale_color_manual(name = \"\",\n",
    "                       values = c(\"#24576D\",\n",
    "                                  \"#099DD7\",\n",
    "                                  \"#28AADC\",\n",
    "                                  \"#248E84\",\n",
    "                                  \"#F2583F\",\n",
    "                                  \"#96503F\")) +\n",
    "    ggtitle(\"Corruption and Human development\"))"
   ]
  },
  {
   "cell_type": "markdown",
   "metadata": {},
   "source": [
    "Theme tweaks\n",
    "------------\n",
    "\n",
    "Our graph is almost there. To finish up, we need to adjust some of the theme elements, and label the axes and legends. This part usually involves some trial and error as you figure out where things need to be positioned. To see what these various theme settings do you can change them and observe the results."
   ]
  },
  {
   "cell_type": "code",
   "execution_count": null,
   "metadata": {},
   "outputs": [],
   "source": [
    "  library(grid) # for the 'unit' function\n",
    "  (pc6 <- pc5 +\n",
    "    theme_minimal() + # start with a minimal theme and add what we need\n",
    "    theme(text = element_text(color = \"gray20\"),\n",
    "          legend.position = c(\"top\"), # position the legend in the upper left \n",
    "          legend.direction = \"horizontal\",\n",
    "          legend.justification = 0.1, # anchor point for legend.position.\n",
    "          legend.text = element_text(size = 11, color = \"gray10\"),\n",
    "          axis.text = element_text(face = \"italic\"),\n",
    "          axis.title.x = element_text(vjust = -1), # move title away from axis\n",
    "          axis.title.y = element_text(vjust = 2), # move away for axis\n",
    "          axis.ticks.y = element_blank(), # element_blank() is how we remove elements\n",
    "          axis.line = element_line(color = \"gray40\", size = 0.5),\n",
    "          axis.line.y = element_blank(),\n",
    "          panel.grid.major = element_line(color = \"gray50\", size = 0.5),\n",
    "          panel.grid.major.x = element_blank()\n",
    "          ))"
   ]
  },
  {
   "cell_type": "markdown",
   "metadata": {},
   "source": [
    "Add model R<sup>2</sup> and source note\n",
    "---------------------------------------\n",
    "\n",
    "The last bit of information that we want to have on the graph is the variance explained by the model represented by the trend line. Lets fit that model and pull out the R<sup>2</sup> first, then think about how to get it onto the graph."
   ]
  },
  {
   "cell_type": "code",
   "execution_count": null,
   "metadata": {},
   "outputs": [],
   "source": [
    "  (mR2 <- summary(lm(HDI ~ log(CPI), data = dat))$r.squared)"
   ]
  },
  {
   "cell_type": "markdown",
   "metadata": {},
   "source": [
    "OK, now that we've calculated the values, let's think about how to get them on the graph. ggplot2 has an `annotate` function, but this is not convenient for adding elements outside the plot area. The `grid` package has nice functions for doing this, so we'll use those.\n",
    "\n",
    "And here it is, our final version!"
   ]
  },
  {
   "cell_type": "code",
   "execution_count": null,
   "metadata": {},
   "outputs": [],
   "source": [
    "  library(grid)\n",
    "  png(file = \"images/econScatter10.png\", width = 800, height = 600)\n",
    "  pc6 \n",
    "  grid.text(\"Sources: Transparency International; UN Human Development Report\",\n",
    "           x = .02, y = .03,\n",
    "           just = \"left\",\n",
    "           draw = TRUE)\n",
    "  grid.segments(x0 = 0.81, x1 = 0.825,\n",
    "                y0 = 0.90, y1 = 0.90,\n",
    "                gp = gpar(col = \"red\"),\n",
    "                draw = TRUE)\n",
    "  grid.text(paste0(\"R² = \",\n",
    "                   as.integer(mR2*100),\n",
    "                   \"%\"),\n",
    "            x = 0.835, y = 0.90,\n",
    "            gp = gpar(col = \"gray20\"),\n",
    "            draw = TRUE,\n",
    "            just = \"left\")\n",
    "\n",
    "  dev.off()"
   ]
  },
  {
   "cell_type": "markdown",
   "metadata": {},
   "source": [
    "![](images/econScatter10.png)\n",
    "\n",
    "Comparing it to the original suggests that we've got most of the important elements, though of course the two graphs are not identical. ![](images/Economist1.png)\n",
    "\n",
    "Wrap-up\n",
    "=======\n",
    "\n",
    "Help Us Make This Workshop Even Better!\n",
    "---------------------------------------\n",
    "\n",
    "-   Please take a moment to fill out a very short feedback form\n",
    "-   These workshops exist for you -- tell us what you need!\n",
    "-   <http://tinyurl.com/R-graphics-feedback>\n",
    "\n",
    "Additional resources\n",
    "--------------------\n",
    "\n",
    "-   ggplot2 resources\n",
    "    -   Mailing list: <http://groups.google.com/group/ggplot2>\n",
    "    -   Wiki: <https://github.com/hadley/ggplot2/wiki>\n",
    "    -   Website: <http://had.co.nz/ggplot2/>\n",
    "    -   StackOverflow: <http://stackoverflow.com/questions/tagged/ggplot>\n",
    "-   IQSS resources\n",
    "    -   Research technology consulting: <http://projects.iq.harvard.edu/rtc>\n",
    "    -   Workshops: <http://projects.iq.harvard.edu/rtc/filter_by/workshops>"
   ]
  }
 ],
 "metadata": {
        "kernelspec": {
            "display_name": "R",
            "language": "R",
            "name": "ir"
        },
        "language_info": {
            "codemirror_mode": "r",
            "file_extension": ".r",
            "mimetype": "text/x-r-source",
            "name": "R",
            "pygments_lexer": "r",
            "version": "3.2.3"
        }
    },
 "nbformat": 4,
 "nbformat_minor": 0
}
